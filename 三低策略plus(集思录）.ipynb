{
 "cells": [
  {
   "cell_type": "code",
   "execution_count": 1,
   "metadata": {
    "tags": []
   },
   "outputs": [],
   "source": [
    "import base64\n",
    "import datetime\n",
    "import pandas as pd\n",
    "pd.set_option('display.max_columns', None)\n",
    "import requests\n",
    "from Crypto.Cipher import AES\n",
    "from Crypto.Util.Padding import pad\n",
    "import binascii\n",
    "import akshare as ak\n",
    "import numpy as np\n",
    "from datetime import datetime, timedelta\n",
    "#三低因子策略plus（5只日轮动）双低因子*5,剩余规模*5,纯债溢价率*1，负,负，负\n",
    "#采用禄得网的3低因子方案调整而来。"
   ]
  },
  {
   "cell_type": "code",
   "execution_count": 2,
   "metadata": {
    "tags": []
   },
   "outputs": [],
   "source": [
    "#集思录数据\n",
    "USER_NAME = 'ri' # 账户名\n",
    "PASSWORD = '9' # 密码\n",
    "# 定义常量\n",
    "headers = {\n",
    "    'authority': 'www.jisilu.cn',\n",
    "    'accept': 'application/json, text/javascript, */*; q=0.01',\n",
    "    'accept-language': 'zh-CN,zh-TW;q=0.9,zh;q=0.8,en;q=0.7',\n",
    "    'cache-control': 'no-cache',\n",
    "    'content-type': 'application/x-www-form-urlencoded; charset=UTF-8',\n",
    "    'dnt': '1',\n",
    "    'origin': 'https://www.jisilu.cn',\n",
    "    'pragma': 'no-cache',\n",
    "    'referer': 'https://www.jisilu.cn/account/login/',\n",
    "    'sec-ch-ua': '\"Not.A/Brand\";v=\"8\", \"Chromium\";v=\"114\", \"Microsoft Edge\";v=\"114\"',\n",
    "    'sec-ch-ua-mobile': '?0',\n",
    "    'sec-ch-ua-platform': '\"macOS\"',\n",
    "    'sec-fetch-dest': 'empty',\n",
    "    'sec-fetch-mode': 'cors',\n",
    "    'sec-fetch-site': 'same-origin',\n",
    "    'user-agent': 'Mozilla/5.0 (Macintosh; Intel Mac OS X 10_15_7) AppleWebKit/537.36 (KHTML, like Gecko) Chrome/114.0.0.0 Safari/537.36 Edg/114.0.1823.82',\n",
    "    'x-requested-with': 'XMLHttpRequest',\n",
    "}\n",
    "AES_KEY = '397151C04723421F'"
   ]
  },
  {
   "cell_type": "code",
   "execution_count": 3,
   "metadata": {
    "tags": []
   },
   "outputs": [],
   "source": [
    "# 加密函数\n",
    "def get_encryt_sting(text):\n",
    "    data = text\n",
    "    key = AES_KEY\n",
    "    cipher = AES.new(key.encode(), AES.MODE_ECB)\n",
    "    encrypted_text = cipher.encrypt(pad(data.encode(), AES.block_size))\n",
    "    return binascii.hexlify(encrypted_text).decode()"
   ]
  },
  {
   "cell_type": "code",
   "execution_count": 4,
   "metadata": {
    "tags": []
   },
   "outputs": [],
   "source": [
    "# 获取cookie函数\n",
    "def get_jsl_cookies(username, password):\n",
    "    data = {\n",
    "        'return_url': 'https://www.jisilu.cn/',\n",
    "        'user_name': get_encryt_sting(username),\n",
    "        'password': get_encryt_sting(password),\n",
    "        'auto_login': '0',\n",
    "        'aes': '1',\n",
    "    }\n",
    "    response = requests.post('https://www.jisilu.cn/webapi/account/login_process/', headers=headers, data=data)\n",
    "    \n",
    "    return response.cookies\n",
    "cookies = get_jsl_cookies(USER_NAME, PASSWORD) # 根据用户名密码获取集思录cookie"
   ]
  },
  {
   "cell_type": "code",
   "execution_count": 5,
   "metadata": {
    "tags": []
   },
   "outputs": [],
   "source": [
    "#开始抓取JSL数据，修改列名，删除不用字段\n",
    "url='https://www.jisilu.cn/data/cbnew/cb_list_new/'\n",
    "response = requests.get(url, cookies=cookies, headers=headers)\n",
    "data = response.json()\n",
    "df = pd.DataFrame(data[\"rows\"])[\"cell\"].apply(pd.Series)\n",
    "df = df.rename(\n",
    "        columns={\n",
    "            \"bond_id\": \"代码\",\n",
    "            \"bond_nm\": \"转债名称\",\n",
    "            \"price\": \"现价\",\n",
    "            \"increase_rt\": \"涨跌幅\",\n",
    "            \"stock_id\": \"正股代码\",\n",
    "            \"stock_nm\": \"正股名称\",\n",
    "            \"sprice\": \"正股价\",\n",
    "            \"sincrease_rt\": \"正股涨跌\",\n",
    "            \"pb\": \"正股PB\",\n",
    "            \"convert_price\": \"转股价\",\n",
    "            \"convert_value\": \"转股价值\",\n",
    "            \"premium_rt\": \"转股溢价率\",\n",
    "            \"dblow\": \"双低\",\n",
    "            \"rating_cd\": \"评级\",\n",
    "            \"put_convert_price\": \"回售触发价\",\n",
    "            \"force_redeem_price\": \"强赎触发价\",\n",
    "            \"convert_amt_ratio\": \"转债流通市值占比\",\n",
    "            \"maturity_dt\": \"到期时间\",\n",
    "            \"year_left\": \"剩余年限\",\n",
    "            \"curr_iss_amt\": \"剩余规模\",\n",
    "            \"volume\": \"成交额万\",\n",
    "            \"turnover_rt\": \"换手率\",\n",
    "            \"ytm_rt\": \"到期税前收益\",\n",
    "            \"ref_yield_info\": \"贴现说明\",\n",
    "            \"convert_dt\": \"转股开始日\",\n",
    "            \"bond_premium_rt\": \"债底溢价率\",\n",
    "            \"adjust_condition\": \"赎回状态\",\n",
    "            \"bond_value\": \"纯债价值\",\n",
    "            \"list_dt\": \"上市日期\",\n",
    "            \"option_value\": \"期权价值\",\n",
    "            \"volatility_rate\": \"正股年化波动率\",\n",
    "            \"fund_rt\": \"机构持仓\",\n",
    "            \"year_left_text\": \"到期年限\",\n",
    "            \"svolume\": \"正股成交额\",\n",
    "            \"bond_nm_tip\": \"重要提示\",\n",
    "            \"orig_iss_amt\": \"发行规模-亿\",\n",
    "            \n",
    "        },  # 对索引进行重命名\n",
    "    )\n",
    "\n",
    " # 删除特定的列\n",
    "df = df.drop(columns=['bond_py','stock_py','btype','sw_cd','qflag2','market_cd','owned','put_ytm_rt','notes','noted','redeem_icon','last_time','qstatus',\n",
    "                      'hold','price_tips','margin_flg','sqflag','pb_flag','adj_cnt','adj_scnt','convert_price_valid','convert_price_tips','convert_cd_tip',\n",
    "                     'adjusted','redeem_dt','option_tip','adjust_status','unadj_cnt','adjust_remain_days','adjust_orders','real_force_redeem_price'])       \n",
    "\n",
    "\n",
    "#——————————————————去集思录的定制页面的数据取另外一些数据\n",
    "url='https://www.jisilu.cn/webapi/cb/list/'\n",
    "response = requests.get('https://www.jisilu.cn/webapi/cb/list/', cookies=cookies, headers=headers) # 获取集思录表格数据\n",
    "df2=pd.DataFrame(response.json().get('data')) # 打印表格数据\n",
    "# 使用map函数更新df1的'列2'\n",
    "df['转债波动率'] = df['代码'].map(df2.set_index('bond_id')['bond_stdevry'])\n",
    "\n",
    "#-------------\n",
    " #部份数据因为%的原因要除以100修正。\n",
    "df['代码']= df['代码'].astype('int64')\n",
    "df['涨跌幅']=(df['涨跌幅']/100).round(4)\n",
    "df['正股涨跌']=(df['正股涨跌']/100).round(4)\n",
    "df['转股溢价率']=(df['转股溢价率']/100).round(4)\n",
    "df['债底溢价率']=(df['债底溢价率']/100).round(4)\n",
    "df['正股年化波动率']=(df['正股年化波动率']/100).round(4)  \n",
    "df['机构持仓']=(df['机构持仓']/100).round(4) \n",
    "df['换手率']=(df['换手率']/100).round(4) \n",
    "df['上市日期'] = pd.to_datetime(df['上市日期'], format='%Y-%m-%d')\n",
    "df['转债波动率']=(df['转债波动率']/100).round(4) \n",
    "df['剩余年限'] = df['剩余年限'].replace(np.nan, 0) #替换nan为0\n",
    "df['到期年限'] = df['到期年限'].replace(\"-\", 0)#替换nan为0\n",
    "df['到期税前收益'] = df['到期税前收益'].replace(np.nan, 0)#替换nan为0"
   ]
  },
  {
   "cell_type": "code",
   "execution_count": 6,
   "metadata": {},
   "outputs": [
    {
     "name": "stderr",
     "output_type": "stream",
     "text": [
      "/Users/shao/anaconda3/envs/newbase/lib/python3.11/site-packages/akshare/bond/china_bond.py:160: FutureWarning: Passing literal html to 'read_html' is deprecated and will be removed in a future version. To read from a literal string, wrap it in a 'StringIO' object.\n",
      "  data_df = pd.read_html(data_text, header=0)[1]\n"
     ]
    },
    {
     "name": "stdout",
     "output_type": "stream",
     "text": [
      "r= 0.0238\n",
      "计算期权价值和偏离度完成\n"
     ]
    }
   ],
   "source": [
    "#计算期权价值\n",
    "from math import log, sqrt, exp\n",
    "from scipy import stats\n",
    "# 期权的定价计算,根据公式１\n",
    "np.seterr(divide='ignore', invalid='ignore')  # 消除被除数为0的警告\n",
    "def bsm_call_value(S_0, K, T, r, sigma):\n",
    "    S_0 = float(S_0)\n",
    "    d_1 = (log(S_0 / K) + (r + 0.5 *sigma **2) *T)/(sigma * sqrt(T))\n",
    "    d_2 = (log(S_0 / K) + (r - 0.5 *sigma **2) *T)/(sigma * sqrt(T))\n",
    "    C_0 = (S_0 * stats.norm.cdf(d_1, 0.0, 1.0) - K * exp(-r * T) * stats.norm.cdf(d_2, 0.0, 1.0))\n",
    "    return C_0\n",
    "\n",
    "#获取中债国债收益率曲线1年做为无风险收益, 取最近的20条平均值\n",
    "today = datetime.now() #当前日期\n",
    "ten_days_ago = today - timedelta(days=10)\n",
    "bond_china_yield_df = ak.bond_china_yield(start_date=ten_days_ago.strftime('%Y%m%d'), end_date=today.strftime('%Y%m%d'))\n",
    "bond_china_yield_df =bond_china_yield_df[(bond_china_yield_df['曲线名称']=='中债国债收益率曲线')]\n",
    "r=round(bond_china_yield_df['1年'].mean()/100,4) #最近10天的平均值，平滑\n",
    "print(\"r=\",r)\n",
    "# 计算的一些初始值\n",
    "#S_0 = df.正股价    # 股票或指数初始的价格;\n",
    "#K = df.转股价       #  行权价格\n",
    "#T = df.剩余年限        #  期权的到期年限(距离到期日时间间隔)\n",
    "#r =        #   无风险利率\n",
    "\n",
    "\n",
    "cv=[] #生成一个空的list\n",
    "for i in range(df.shape[0]):\n",
    "    tmp = df.iloc[i]\n",
    "    res = bsm_call_value(tmp.正股价,tmp.转股价,tmp.剩余年限, r,tmp.正股年化波动率)\n",
    "    cv.append(round(res, 4))\n",
    "    #print(cv)\n",
    "\n",
    "cv = pd.DataFrame(cv)\n",
    "index = df.index\n",
    "cv.set_index(index, inplace=True)\n",
    "cv.columns=['cv']\n",
    "df['期权价值']=round(100/df['转股价']*cv['cv'],4)\n",
    "#根据期权价值计算转债的理论价值和偏离度\n",
    "df['偏离度'] = -((df['纯债价值']+df['期权价值']) / df['现价'] - 1).round(4)\n",
    "\n",
    "print(\"计算期权价值和偏离度完成\")"
   ]
  },
  {
   "cell_type": "code",
   "execution_count": 10,
   "metadata": {},
   "outputs": [
    {
     "name": "stdout",
     "output_type": "stream",
     "text": [
      "最新数据更新成功！！！！2023-12-12 10:51:10.840428\n"
     ]
    }
   ],
   "source": [
    "#import openpyxl\n",
    "from openpyxl import load_workbook\n",
    "# 需按照实际策略修改打分因子（三因子排序法-价格-溢价率-波动差）\n",
    "#通过过滤条件和处理数据 ST ST* R EB Z和交换债\n",
    "#_--------------\n",
    "df3d=df #复制一个新表用来计算3低因子的评分\n",
    "df3d['filter'] = False # 初始化过滤器\n",
    "df3d.loc[df3d.重要提示.isin(['已满足强赎条件','公告要强赎','临近到期','公告实施强赎', '公告提示强赎', '已满足强赎条件','最后交易日']), 'filter'] = True # 排除赎回状态\n",
    "df3d.loc[df3d.正股名称.str.contains('ST','*ST'),'filter'] = True  # 排除正股ST的转债\n",
    "df3d.loc[df3d.正股名称.str.contains('R','*'),'filter'] = True  # R和*的正股\n",
    "df3d.loc[df3d.转债名称.str.contains('EB'),'filter'] = True  # 可交换债和Z债\n",
    "df3d.loc[df3d.转债名称.str.contains('Z','退'),'filter'] = True  # 转债退市\n",
    "df3d.loc[df3d.成交额万 ==0, 'filter'] = True # 排除未上市的新债\n",
    "df3d = df3d[~df3d['filter']] #删除\n",
    "df3d=df3d.reset_index(drop=True)  \n",
    "#------------------\n",
    "#以下的过滤为通用设置，如果是与排除因子和打分因子放到具体的模块\n",
    "df3d['上市天数'] = df3d['上市日期'].rsub(pd.Timestamp('today')).dt.days\n",
    "df3d.loc[df3d.上市天数 <=3, 'filter'] = True # 排除上市3天内新债\n",
    "df3d.loc[df3d.评级.isin(['BBB+','BBB','BBB-','B+','B','B-','cc','ccc']),'filter'] = True #排除低级债 \n",
    "#df3d.loc[df3d.rating.isin(['8-','9','10']),'filter'] = True #排除低级债 \n",
    "\n",
    "#--------------------\n",
    "#排除因子\n",
    "df3d.loc[df3d.转股价值 > 130, 'filter'] = True # 排除转股价值大于130的标的\n",
    "df3d.loc[df3d.现价 < 100, 'filter'] = True # 排除转股价值小于100的标的\n",
    "df3d.loc[df3d.剩余年限 < 1 , 'filter'] = True # 排除剩余年限小于1年的标的\n",
    "df3d['成交额万pct'] = df3d['成交额万'].rank(pct=True) # 将成交额从小到大百分比排列\n",
    "df3d.loc[df3d.成交额万pct < 0.05, 'filter'] = True # 排除换成交额排名小于3%的标的\n",
    "#--------------------\n",
    "#打分因子  \t\n",
    "df3d['双低分'] =df3d.loc[df3d['filter'] == False, '双低'].rank(ascending=False) # 对打分因子1进行打分\n",
    "df3d['规模分'] = df3d.loc[df3d['filter'] == False, '剩余规模'].rank(ascending=False) # 对打分因子2进行打分\n",
    "df3d['债溢分'] = df3d.loc[df3d['filter'] == False, '债底溢价率'].rank(ascending=False) # 对打分因子3 进行打分\n",
    "df3d['总分'] =df3d.双低分 * 5 + df3d.规模分 * 5+df3d.债溢分           #计算总分，权重为：双低因子*5,剩余规模*5,纯债溢价率*1，负,负，负，需按照实际策略进行修改\n",
    "df3d['排名'] = df3d['总分'].rank(ascending=False)         # 按总分从高到低计算排名\n",
    "df3d.sort_values('排名', ascending=True, inplace=True)  # 根据 '排名' 列进行升序排序\n",
    "#df.insert(0, '排名', df.pop('排名'))                   \n",
    "df3d=df3d[['代码','转债名称','现价','转股溢价率', '涨跌幅','正股涨跌','成交额万','剩余规模','转股价值', '纯债价值','期权价值','债底溢价率','偏离度','转债波动率',\n",
    "           '正股年化波动率','换手率','剩余年限','双低','评级','赎回状态','总分','filter','重要提示']]\n",
    "\n",
    "#写文件\n",
    "\n",
    "with pd.ExcelWriter(r'可转债量化轮动.xlsx',engine='openpyxl', mode='a',if_sheet_exists='overlay') as writer:\n",
    "    df3d.to_excel(writer,  sheet_name='三低组',index=False, header=True)\n",
    "    df3d.head(20).to_excel(writer, sheet_name='持仓明细',columns=['代码','转债名称','现价','转股溢价率', '涨跌幅','正股涨跌','成交额万','剩余规模','纯债价值',\n",
    "                                                              '期权价值','偏离度','换手率'],startrow=35,startcol=10,index=False, header=True)  #同时运行这一行会文件会报错。\n",
    "    \n",
    "print(\"最新数据更新成功！！！！\"+str(pd.Timestamp('today')))\n",
    "\n",
    "\n"
   ]
  },
  {
   "cell_type": "code",
   "execution_count": null,
   "metadata": {},
   "outputs": [],
   "source": []
  },
  {
   "cell_type": "code",
   "execution_count": null,
   "metadata": {},
   "outputs": [],
   "source": []
  }
 ],
 "metadata": {
  "kernelspec": {
   "display_name": "Python 3 (ipykernel)",
   "language": "python",
   "name": "python3"
  },
  "language_info": {
   "codemirror_mode": {
    "name": "ipython",
    "version": 3
   },
   "file_extension": ".py",
   "mimetype": "text/x-python",
   "name": "python",
   "nbconvert_exporter": "python",
   "pygments_lexer": "ipython3",
   "version": "3.11.5"
  }
 },
 "nbformat": 4,
 "nbformat_minor": 4
}
